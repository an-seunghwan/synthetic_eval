{
 "cells": [
  {
   "cell_type": "code",
   "execution_count": 1,
   "metadata": {},
   "outputs": [],
   "source": [
    "import pandas as pd\n",
    "import torch\n",
    "device = torch.device('cuda' if torch.cuda.is_available() else 'cpu')"
   ]
  },
  {
   "cell_type": "code",
   "execution_count": 2,
   "metadata": {},
   "outputs": [],
   "source": [
    "\"\"\"the ground-truth (training, test) and synthetic dataset\"\"\"\n",
    "data = pd.read_csv('./loan.csv') \n",
    "# len(data) # 5,000\n",
    "train = data.iloc[:2000]\n",
    "test = data.iloc[2000:4000]\n",
    "syndata = data.iloc[4000:]"
   ]
  },
  {
   "cell_type": "code",
   "execution_count": 3,
   "metadata": {},
   "outputs": [],
   "source": [
    "\"\"\"specify column types\"\"\"\n",
    "continuous_features = [\n",
    "    'Age',\n",
    "    'Experience',\n",
    "    'Income', \n",
    "    'CCAvg',\n",
    "    'Mortgage',\n",
    "]\n",
    "categorical_features = [\n",
    "    'Family',\n",
    "    'Personal Loan',\n",
    "    'Securities Account',\n",
    "    'CD Account',\n",
    "    'Online',\n",
    "    'CreditCard'\n",
    "]\n",
    "target = 'Personal Loan' # machine learning utility target column"
   ]
  },
  {
   "cell_type": "code",
   "execution_count": 8,
   "metadata": {},
   "outputs": [
    {
     "name": "stdout",
     "output_type": "stream",
     "text": [
      "\n",
      "1. Statistical Fidelity\n",
      "\n",
      "(marginal) KL-Divergence...\n",
      "\n",
      "(marginal) Goodness Of Fit...\n",
      "\n",
      "(joint) MMD...\n",
      "\n",
      "(joint) Cramer-Wold Distance...\n",
      "\n",
      "(joint) alpha-precision, beta-recall...\n",
      "\n",
      "\n",
      "2. Machine Learning Utility\n",
      "\n",
      "Classification downstream task...\n",
      "\n",
      "(Baseline) Classification: Accuracy...\n",
      "[logit] ACC: 0.940\n",
      "[KNN] ACC: 0.925\n",
      "[RBF-SVM] ACC: 0.943\n",
      "[RandomForest] ACC: 0.955\n",
      "[GradBoost] ACC: 0.956\n",
      "[AdaBoost] ACC: 0.937\n",
      "(Synthetic) Classification: Accuracy...\n"
     ]
    },
    {
     "name": "stderr",
     "output_type": "stream",
     "text": [
      "/opt/anaconda3/envs/eval/lib/python3.11/site-packages/sklearn/ensemble/_weight_boosting.py:527: FutureWarning: The SAMME.R algorithm (the default) is deprecated and will be removed in 1.6. Use the SAMME algorithm to circumvent this warning.\n",
      "  warnings.warn(\n"
     ]
    },
    {
     "name": "stdout",
     "output_type": "stream",
     "text": [
      "[logit] ACC: 0.933\n",
      "[KNN] ACC: 0.916\n",
      "[RBF-SVM] ACC: 0.930\n",
      "[RandomForest] ACC: 0.945\n",
      "[GradBoost] ACC: 0.948\n"
     ]
    },
    {
     "name": "stderr",
     "output_type": "stream",
     "text": [
      "/opt/anaconda3/envs/eval/lib/python3.11/site-packages/sklearn/ensemble/_weight_boosting.py:527: FutureWarning: The SAMME.R algorithm (the default) is deprecated and will be removed in 1.6. Use the SAMME algorithm to circumvent this warning.\n",
      "  warnings.warn(\n"
     ]
    },
    {
     "name": "stdout",
     "output_type": "stream",
     "text": [
      "[AdaBoost] ACC: 0.939\n",
      "\n",
      "3. Privacy Preservability\n",
      "\n",
      "K-anonimity...\n",
      "\n",
      "K-Map...\n",
      "\n",
      "Distance to Closest Record...\n",
      "\n",
      "Attribute Disclosure...\n",
      "\n"
     ]
    }
   ],
   "source": [
    "from synthetic_eval import evaluation\n",
    "results = evaluation.evaluate(\n",
    "    syndata, train, test, \n",
    "    target, continuous_features, categorical_features, device\n",
    ")"
   ]
  },
  {
   "cell_type": "code",
   "execution_count": 9,
   "metadata": {},
   "outputs": [
    {
     "name": "stdout",
     "output_type": "stream",
     "text": [
      "KL: 0.031\n",
      "GoF: 0.126\n",
      "MMD: 0.018\n",
      "CW: 0.412\n",
      "alpha_precision: 0.973\n",
      "beta_recall: 0.304\n",
      "base_cls: 0.943\n",
      "syn_cls: 0.935\n",
      "model_selection: 0.771\n",
      "feature_selection: 0.951\n",
      "Kanon_base: 1.050\n",
      "Kanon_syn: 0.800\n",
      "KMap: 0.700\n",
      "DCR_RS: 0.086\n",
      "DCR_RR: 0.067\n",
      "DCR_SS: 0.111\n",
      "AD: 0.578\n"
     ]
    }
   ],
   "source": [
    "for x, y in results._asdict().items():\n",
    "    print(f\"{x}: {y:.3f}\")"
   ]
  },
  {
   "cell_type": "code",
   "execution_count": null,
   "metadata": {},
   "outputs": [],
   "source": []
  }
 ],
 "metadata": {
  "kernelspec": {
   "display_name": "eval",
   "language": "python",
   "name": "python3"
  },
  "language_info": {
   "codemirror_mode": {
    "name": "ipython",
    "version": 3
   },
   "file_extension": ".py",
   "mimetype": "text/x-python",
   "name": "python",
   "nbconvert_exporter": "python",
   "pygments_lexer": "ipython3",
   "version": "3.11.10"
  }
 },
 "nbformat": 4,
 "nbformat_minor": 2
}
